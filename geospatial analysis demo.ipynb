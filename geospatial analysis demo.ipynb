{
 "cells": [
  {
   "attachments": {},
   "cell_type": "markdown",
   "metadata": {},
   "source": [
    "# Geospatial Analysis & Folium Demo\n",
    "\n",
    "This demo imports geospatial data, transforms it and plots it on a map.\n",
    "\n",
    "## Useful Links\n",
    "Pandas documentation: https://pandas.pydata.org/docs/ \\\n",
    "Geopandas documentation: https://geopandas.org/en/stable/getting_started/introduction.html \\\n",
    "Folium documentation: http://python-visualization.github.io/folium/ \\\n",
    "Folium icons: https://fontawesome.com/v4/icons/ \\\n",
    "Folium Choropleth colors: https://colorbrewer2.org/#type=sequential&scheme=BuGn&n=3"
   ]
  },
  {
   "cell_type": "code",
   "execution_count": null,
   "metadata": {},
   "outputs": [],
   "source": [
    "# This section imports the core packages we want to use in our analysis\n",
    "\n",
    "import pandas as pd  # Pandas is a powerful data manipulation and analysis library for Python. It provides data structures like DataFrame to efficiently handle structured data.\n",
    "import geopandas as gpd  # Geopandas is an extension of pandas that supports geospatial data. It allows for easy manipulation of geometric data types and operations.\n",
    "import folium  # Folium is a library for creating interactive maps. It is built on the leaflet.js library and allows for easy visualization of geospatial data.\n",
    "\n",
    "# This section imports custom functions. Importing custom functions allows you to write generic functions and use them as tools in your scripts and analysis.\n",
    "# This makes the code modular and reusable. Note how the import statements reflect the file path where these functions are stored.\n",
    "from utils.gis.spatial_joins import join_points_to_polygons, join_polygons, find_nearest_and_distance, filter_intersecting_polygons\n",
    "from utils.gis.crs_conversion import ensure_crs"
   ]
  },
  {
   "attachments": {},
   "cell_type": "markdown",
   "metadata": {},
   "source": [
    "Import Data"
   ]
  },
  {
   "cell_type": "code",
   "execution_count": null,
   "metadata": {},
   "outputs": [],
   "source": [
    "# This section creates geospatial dataframes by reading in data from GeoJSON files.\n",
    "# GeoJSON is a format for encoding a variety of geographic data structures using JavaScript Object Notation (JSON).\n",
    "# You can load files from all sorts of datasources in both pandas and geopandas.\n",
    "\n",
    "# Pandas\n",
    "example_csv_df = pd.read_csv(f\"data/example.csv\") # Uses the pandas read_csv function to load in data from a csv file\n",
    "\n",
    "# Geopandas\n",
    "index_of_multiple_deprivation_df = gpd.read_file(r\"data/demo_IMD.geojson\") # Uses geopandas read_file function to load data from a geojson\n",
    "metorlink_lines_df = gpd.read_file(r\"data/demo_Metrolink_Lines_Functional.json\")\n",
    "metrolink_stops_df = gpd.read_file(r\"data/demo_Metrolink_Stops_Functional.json\")"
   ]
  },
  {
   "attachments": {},
   "cell_type": "markdown",
   "metadata": {},
   "source": [
    "The below sections use Pandas functionality to view and understand your dataframes."
   ]
  },
  {
   "cell_type": "code",
   "execution_count": null,
   "metadata": {},
   "outputs": [],
   "source": [
    "# Example of viewing the top 10 rows of a data frame. This is useful for debuging and...\n",
    "index_of_multiple_deprivation_df.head(10)"
   ]
  },
  {
   "cell_type": "code",
   "execution_count": null,
   "metadata": {},
   "outputs": [],
   "source": [
    "# Example that prints the column names of your data frame\n",
    "index_of_multiple_deprivation_df.columns"
   ]
  },
  {
   "cell_type": "code",
   "execution_count": null,
   "metadata": {},
   "outputs": [],
   "source": [
    "# Example that describes the dataframe and data types\n",
    "index_of_multiple_deprivation_df.info()"
   ]
  },
  {
   "cell_type": "code",
   "execution_count": null,
   "metadata": {},
   "outputs": [],
   "source": [
    "index_of_multiple_deprivation_df.describe()"
   ]
  },
  {
   "cell_type": "code",
   "execution_count": null,
   "metadata": {},
   "outputs": [],
   "source": [
    "index_of_multiple_deprivation_df"
   ]
  },
  {
   "attachments": {},
   "cell_type": "markdown",
   "metadata": {},
   "source": [
    "Transform Data"
   ]
  },
  {
   "cell_type": "code",
   "execution_count": null,
   "metadata": {},
   "outputs": [],
   "source": [
    "# Example for creating a copy of a dataframe, you may want to do this when transforming data because...\n",
    "index_of_multiple_deprivation_df_copy = index_of_multiple_deprivation_df.copy()\n",
    "\n",
    "# Example for adding a new column to the copied dataframe\n",
    "index_of_multiple_deprivation_df_copy['new_example_column'] = (index_of_multiple_deprivation_df_copy['Join_Count'] * 5) # This is purly and example to show how you can build new columns using caluclations."
   ]
  },
  {
   "cell_type": "code",
   "execution_count": null,
   "metadata": {},
   "outputs": [],
   "source": [
    "# Print the new dataframe to see your changes\n",
    "index_of_multiple_deprivation_df_copy.head(5)"
   ]
  },
  {
   "attachments": {},
   "cell_type": "markdown",
   "metadata": {},
   "source": [
    "Geospatial Joining using custom function"
   ]
  },
  {
   "cell_type": "code",
   "execution_count": null,
   "metadata": {},
   "outputs": [],
   "source": []
  },
  {
   "attachments": {},
   "cell_type": "markdown",
   "metadata": {},
   "source": [
    "Plot Data using Folium"
   ]
  },
  {
   "cell_type": "code",
   "execution_count": null,
   "metadata": {},
   "outputs": [],
   "source": [
    "from style_scripts.folium_styles import style_black_bound, style_zone_outline, style_metro_line"
   ]
  },
  {
   "cell_type": "code",
   "execution_count": null,
   "metadata": {},
   "outputs": [],
   "source": [
    "IMD_df = pd.DataFrame(index_of_multiple_deprivation_df) #convert to df\n",
    "IMD_ranks = (IMD_df['IMD_Rank'].quantile((0,0.2,0.4,0.6,0.8,1))).tolist() #create bins for folium legend "
   ]
  },
  {
   "cell_type": "code",
   "execution_count": null,
   "metadata": {},
   "outputs": [],
   "source": [
    "m = folium.Map(location=[53.5735, -2.2170], zoom_start=11.5) #base map coordinates\n",
    "\n",
    "folium.Map(location=[53.5735, -2.2170], zoom_start=12) #base map coordinates\n",
    "\n",
    "#NMGH Marker - adds marker to the map\n",
    "NMGH_marker = folium.Marker(\n",
    "    [53.5174224217791, -2.22877374948477], \n",
    "    tooltip='North Manchester Hospital',\n",
    "    icon=folium.Icon(color='red', icon='hospital-o', prefix='fa')\n",
    ").add_to(m)\n",
    "\n",
    "#geojson layers\n",
    "IMD = f'data/demo_IMD.geojson'\n",
    "metro_link = f'data/demo_Metrolink_Lines_Functional.json'\n",
    "metro_stops = f'data/demo_Metrolink_Stops_Functional.json'\n",
    "\n",
    "cp1 = folium.Choropleth(\n",
    "    geo_data=IMD,\n",
    "    name='Index of Deprivation England by LSOA',\n",
    "    data= IMD_df,\n",
    "    columns=['OBJECTID_1', 'IMD_Rank'],\n",
    "    key_on='feature.properties.OBJECTID_1',\n",
    "    threshold_scale= IMD_ranks,\n",
    "    fill_color='PuBu',   \n",
    "    fill_opacity=0.6,\n",
    "    line_opacity=0.5,\n",
    "    legend_name='< Less Deprived - More Deprived >',\n",
    "    highlight=True,\n",
    "    show=True\n",
    ").add_to(m)\n",
    "\n",
    "#code to remove legend\n",
    "# for key in cp1._children:\n",
    "#     if key.startswith('color_map'):\n",
    "#         del(cp1._children[key])\n",
    "# cp1.add_to(m)\n",
    "\n",
    "#add tool tip to geojson layer\n",
    "folium.GeoJsonTooltip(fields=['OBJECTID_1', 'IMD_Rank'], \n",
    "aliases=['Object_ID:', 'IMD_Rank:']).add_to(cp1.geojson)\n",
    "\n",
    "\n",
    "#create feature group for metro geojson data sets\n",
    "metro_feature_group = folium.FeatureGroup(show=False, name='Metro Link Routes')\n",
    "\n",
    "#import metro lines and add to feature group\n",
    "metro_link_lines = (folium.GeoJson(\n",
    "    metro_link, \n",
    "    name='metro link',\n",
    "    style_function=lambda x:style_metro_line,\n",
    ")).add_to(metro_feature_group)\n",
    "\n",
    "#import metro stops and add to feature group\n",
    "metro_stop_points = (folium.GeoJson(\n",
    "    metro_stops, \n",
    "    name='metro stops',\n",
    "))\n",
    "\n",
    "#for each poit in metro_stop_points adjust color and icon\n",
    "for feature in metro_stop_points.data['features']:\n",
    "    if feature['geometry']['type'] == 'Point':\n",
    "        folium.Marker(location=list(reversed(feature['geometry']['coordinates'])),\n",
    "            icon=folium.Icon(icon='train', prefix='fa', icon_size=1, icon_color='#F34200', shadow_size=0, shadow_anchor=0),\n",
    "            tooltip=feature['properties']['name']\n",
    "        ).add_to(metro_feature_group)\n",
    "\n",
    "metro_feature_group.add_to(m)\n",
    "\n",
    "#adds layer control functionality\n",
    "folium.LayerControl(autoZIndex=True).add_to(m)\n",
    "\n",
    "#modify layer order, example: (layer_1, layer_2) - last value goes on top\n",
    "m.keep_in_front(metro_link_lines)\n",
    "\n",
    "#adds functionality that lets you click the map and see lat long\n",
    "m.add_child(folium.LatLngPopup()) "
   ]
  }
 ],
 "metadata": {
  "kernelspec": {
   "display_name": "geoenv",
   "language": "python",
   "name": "python3"
  },
  "language_info": {
   "codemirror_mode": {
    "name": "ipython",
    "version": 3
   },
   "file_extension": ".py",
   "mimetype": "text/x-python",
   "name": "python",
   "nbconvert_exporter": "python",
   "pygments_lexer": "ipython3",
   "version": "3.10.14"
  },
  "orig_nbformat": 4,
  "vscode": {
   "interpreter": {
    "hash": "9fbc9fcaa480438537bae2315a531c8edf5f9f269cf38db9e18682564266a3d9"
   }
  }
 },
 "nbformat": 4,
 "nbformat_minor": 2
}
